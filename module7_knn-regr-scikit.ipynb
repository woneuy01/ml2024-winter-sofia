{
 "cells": [
  {
   "cell_type": "code",
   "execution_count": 60,
   "metadata": {},
   "outputs": [],
   "source": [
    "import numpy as np\n",
    "from sklearn.neighbors import KNeighborsRegressor\n",
    "from sklearn.metrics import r2_score"
   ]
  },
  {
   "cell_type": "code",
   "execution_count": 33,
   "metadata": {},
   "outputs": [],
   "source": [
    "def N_enter():\n",
    "    while True:\n",
    "        try:\n",
    "            N=int(input(\"Enter the number of points you enters\"))\n",
    "            if N>0:\n",
    "                print( \"Your number of point is:\", N)            \n",
    "            else:\n",
    "                print(\"Your number is not a positive integer\")\n",
    "        except ValueError:\n",
    "            print(\"Please provide an positive integer\")\n",
    "        return N         \n"
   ]
  },
  {
   "cell_type": "code",
   "execution_count": 34,
   "metadata": {},
   "outputs": [],
   "source": [
    "def k_enter():\n",
    "    while True:\n",
    "        try:\n",
    "            k=int(input(\"Enter k for KNeighbors Regresson\"))\n",
    "            if k>0:\n",
    "                print( \"Your number is:\", k)            \n",
    "            else:\n",
    "                print(\"Your number is not a positive integer\")\n",
    "        except ValueError:\n",
    "            print(\"Please provide an positive integer\")\n",
    "        return k"
   ]
  },
  {
   "cell_type": "code",
   "execution_count": 62,
   "metadata": {},
   "outputs": [
    {
     "name": "stdout",
     "output_type": "stream",
     "text": [
      "Enter the number of points you enters7\n",
      "Your number of point is: 7\n",
      "Enter k for KNeighbors Regresson3\n",
      "Your number is: 3\n",
      "Enter x value for point 1: 1\n",
      "Enter y value for point 1: 2\n",
      "Enter x value for point 2: 2\n",
      "Enter y value for point 2: 3\n",
      "Enter x value for point 3: 3\n",
      "Enter y value for point 3: 4\n",
      "Enter x value for point 4: 4\n",
      "Enter y value for point 4: 5\n",
      "Enter x value for point 5: 5\n",
      "Enter y value for point 5: 6\n",
      "Enter x value for point 6: 6\n",
      "Enter y value for point 6: 7\n",
      "Enter x value for point 7: 7\n",
      "Enter y value for point 7: 8\n",
      "Enter X for Knn regression prediction: 3.5\n",
      "The prediction by KNeighborsRegressor y is: 4.0\n",
      "The coefficient of determination is: 0.9285714285714286\n"
     ]
    }
   ],
   "source": [
    " from sklearn.neighbors import KNeighborsRegressor\n",
    "# def main():\n",
    "N=N_enter()\n",
    "k=k_enter()\n",
    "# points = point_enter(N)\n",
    "x = np.zeros(N)\n",
    "y = np.zeros(N)\n",
    "for i in range (N):\n",
    "    x[i] = float(input(f\"Enter x value for point {i+1}: \"))\n",
    "    y[i] = float(input(f\"Enter y value for point {i+1}: \"))\n",
    "    \n",
    "x = x.reshape(-1, 1)\n",
    "y = y.reshape(-1, 1)\n",
    "X_pred = point_number(\"Enter X for Knn regression prediction: \")\n",
    "X_pred=np.array([X_pred]).reshape(-1,1)\n",
    "x_train=x\n",
    "y_train=y\n",
    "if k <= N:   \n",
    "    knn = KNeighborsRegressor(n_neighbors=k)\n",
    "    knn.fit(x_train, y_train)\n",
    "    y_pred = knn.predict(X_pred)\n",
    "    # Output the result\n",
    "    print(f\"The prediction by KNeighborsRegressor y is: {y_pred[0][0]}\")\n",
    "    r2 = r2_score(y, knn.predict(X))\n",
    "    print(f\"The coefficient of determination is: {r2}\")\n",
    "else:\n",
    "    print(\"Error: k is greater than N\")"
   ]
  }
 ],
 "metadata": {
  "kernelspec": {
   "display_name": "Python 3",
   "language": "python",
   "name": "python3"
  },
  "language_info": {
   "codemirror_mode": {
    "name": "ipython",
    "version": 3
   },
   "file_extension": ".py",
   "mimetype": "text/x-python",
   "name": "python",
   "nbconvert_exporter": "python",
   "pygments_lexer": "ipython3",
   "version": "3.8.5"
  }
 },
 "nbformat": 4,
 "nbformat_minor": 4
}
