{
 "cells": [
  {
   "cell_type": "code",
   "execution_count": 1,
   "metadata": {},
   "outputs": [],
   "source": [
    "import numpy as np"
   ]
  },
  {
   "cell_type": "code",
   "execution_count": 2,
   "metadata": {},
   "outputs": [],
   "source": [
    "def N_enter():\n",
    "    while True:\n",
    "        try:\n",
    "            N=int(input(\"Enter the number of points you enters\"))\n",
    "            if N>0:\n",
    "                print( \"Your number of point is:\", N)            \n",
    "            else:\n",
    "                print(\"Your number is not a positive integer\")\n",
    "        except ValueError:\n",
    "            print(\"Please provide an positive integer\")\n",
    "        return N         \n"
   ]
  },
  {
   "cell_type": "code",
   "execution_count": 3,
   "metadata": {},
   "outputs": [],
   "source": [
    "def k_enter():\n",
    "    while True:\n",
    "        try:\n",
    "            k=int(input(\"Enter k for KNN Regression\"))\n",
    "            if k>0:\n",
    "                print( \"Your number is:\", k)            \n",
    "            else:\n",
    "                print(\"Your number is not a positive integer\")\n",
    "        except ValueError:\n",
    "            print(\"Please provide an positive integer\")\n",
    "        return k"
   ]
  },
  {
   "cell_type": "code",
   "execution_count": 5,
   "metadata": {},
   "outputs": [],
   "source": [
    "def point_enter(N):\n",
    "    list_num=[]\n",
    "    for i in range (N):\n",
    "        x=point_number(f\"Enter x-axis number\" )\n",
    "        y=point_number(f\"Enter y-axis number\" )\n",
    "        i+=1\n",
    "        list_num.append((x,y))\n",
    "    return np.array(list_num)       "
   ]
  },
  {
   "cell_type": "code",
   "execution_count": 4,
   "metadata": {},
   "outputs": [],
   "source": [
    "def point_number(num):\n",
    "    while True:\n",
    "        try:\n",
    "            value = float(input(num))\n",
    "            return value\n",
    "        except ValueError:\n",
    "            print(\"Invalid input. Please enter a real number.\")"
   ]
  },
  {
   "cell_type": "code",
   "execution_count": 15,
   "metadata": {},
   "outputs": [],
   "source": [
    "def knn_re (list_num, k,x):\n",
    "    euclidean=np.linalg.norm(list_num[:, 0] - x)\n",
    "     # Sort distances \n",
    "    nearest_k = np.argsort(euclidean)[:k]\n",
    "    weights = 1 / euclidean\n",
    "    Y = np.sum(weights * list_num[nearest_k, 1]) / np.sum(weights)\n",
    "    return Y\n",
    "    "
   ]
  },
  {
   "cell_type": "code",
   "execution_count": 16,
   "metadata": {},
   "outputs": [],
   "source": [
    "def main():\n",
    "    N=N_enter()\n",
    "    k=k_enter()\n",
    "\n",
    "    points = point_enter(N)\n",
    "\n",
    "    x = point_number(\"Enter X for Knn regression prediction: \")\n",
    "\n",
    "    if k <= N:\n",
    "        Y = knn_re(points, k, x)\n",
    "        print(f\"KNN regression expects Y for X = {x}: {Y:.2f}\")\n",
    "    else:\n",
    "        print(\"Error: k is greater than N\")"
   ]
  },
  {
   "cell_type": "code",
   "execution_count": 17,
   "metadata": {},
   "outputs": [
    {
     "name": "stdout",
     "output_type": "stream",
     "text": [
      "Enter the number of points you enters7\n",
      "Your number of point is: 7\n",
      "Enter k for KNN Regression3\n",
      "Your number is: 3\n",
      "Enter x-axis number1\n",
      "Enter y-axis number2\n",
      "Enter x-axis number2\n",
      "Enter y-axis number3\n",
      "Enter x-axis number3\n",
      "Enter y-axis number4\n",
      "Enter x-axis number4\n",
      "Enter y-axis number5\n",
      "Enter x-axis number5\n",
      "Enter y-axis number6\n",
      "Enter x-axis number6\n",
      "Enter y-axis number7\n",
      "Enter x-axis number7\n",
      "Enter y-axis number8\n",
      "Enter X for Knn regression prediction: 3.5\n",
      "KNN regression expects Y for X = 3.5: 2.00\n"
     ]
    }
   ],
   "source": [
    "if __name__ == \"__main__\":\n",
    "    main()"
   ]
  }
 ],
 "metadata": {
  "kernelspec": {
   "display_name": "Python 3",
   "language": "python",
   "name": "python3"
  },
  "language_info": {
   "codemirror_mode": {
    "name": "ipython",
    "version": 3
   },
   "file_extension": ".py",
   "mimetype": "text/x-python",
   "name": "python",
   "nbconvert_exporter": "python",
   "pygments_lexer": "ipython3",
   "version": "3.8.5"
  }
 },
 "nbformat": 4,
 "nbformat_minor": 4
}
