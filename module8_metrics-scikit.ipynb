{
 "cells": [
  {
   "cell_type": "code",
   "execution_count": 2,
   "metadata": {},
   "outputs": [],
   "source": [
    "import numpy as np"
   ]
  },
  {
   "cell_type": "code",
   "execution_count": 3,
   "metadata": {},
   "outputs": [],
   "source": [
    "def N_enter():\n",
    "    while True:\n",
    "        try:\n",
    "            N=int(input(\"Enter the number of points you enters\"))\n",
    "            if N>0:\n",
    "                print( \"Your number of point is:\", N)            \n",
    "            else:\n",
    "                print(\"Your number is not a positive integer\")\n",
    "        except ValueError:\n",
    "            print(\"Please provide an positive integer\")\n",
    "        return N         \n"
   ]
  },
  {
   "cell_type": "code",
   "execution_count": 5,
   "metadata": {},
   "outputs": [
    {
     "name": "stdout",
     "output_type": "stream",
     "text": [
      "Enter the number of points you enters7\n",
      "Your number of point is: 7\n",
      "Enter x value for N (x, y) points (0 or 1)1: 1\n",
      "Enter y value for N (x, y) points (0 or 1) 1: 0\n",
      "Enter x value for N (x, y) points (0 or 1)2: 1\n",
      "Enter y value for N (x, y) points (0 or 1) 2: 1\n",
      "Enter x value for N (x, y) points (0 or 1)3: 0\n",
      "Enter y value for N (x, y) points (0 or 1) 3: 1\n",
      "Enter x value for N (x, y) points (0 or 1)4: 1\n",
      "Enter y value for N (x, y) points (0 or 1) 4: 1\n",
      "Enter x value for N (x, y) points (0 or 1)5: 0\n",
      "Enter y value for N (x, y) points (0 or 1) 5: 0\n",
      "Enter x value for N (x, y) points (0 or 1)6: 1\n",
      "Enter y value for N (x, y) points (0 or 1) 6: 1\n",
      "Enter x value for N (x, y) points (0 or 1)7: 1\n",
      "Enter y value for N (x, y) points (0 or 1) 7: 0\n",
      "Precision: 0.75\n",
      "Recall: 0.6\n"
     ]
    }
   ],
   "source": [
    "from sklearn.metrics import precision_score, recall_score\n",
    "\n",
    "N=N_enter() # number of point to enter\n",
    "\n",
    "# points = point_enter(N)\n",
    "x = np.zeros(N)\n",
    "y = np.zeros(N)\n",
    "for i in range (N):\n",
    "    # X is truth y is predict\n",
    "    x[i] = float(input(f\"Enter x value for N (x, y) points (0 or 1){i+1}: \"))\n",
    "    y[i] = float(input(f\"Enter y value for N (x, y) points (0 or 1) {i+1}: \"))\n",
    "    \n",
    "x = x.reshape(-1, 1)\n",
    "y = y.reshape(-1, 1)\n",
    "# X_pred=np.array([X_pred]).reshape(-1,1)\n",
    "x_truth=x\n",
    "y_pred=y\n",
    "\n",
    "\n",
    "# precision  TP/(TP+FP)\n",
    "precision = precision_score(x_truth, y_pred)\n",
    "# recall  TP/(TP+FN)\n",
    "recall = recall_score(x_truth, y_pred)\n",
    "\n",
    "# Output the Precision and Recall\n",
    "print(f\"Precision: {precision}\")\n",
    "print(f\"Recall: {recall}\")\n"
   ]
  }
 ],
 "metadata": {
  "kernelspec": {
   "display_name": "Python 3",
   "language": "python",
   "name": "python3"
  },
  "language_info": {
   "codemirror_mode": {
    "name": "ipython",
    "version": 3
   },
   "file_extension": ".py",
   "mimetype": "text/x-python",
   "name": "python",
   "nbconvert_exporter": "python",
   "pygments_lexer": "ipython3",
   "version": "3.8.5"
  }
 },
 "nbformat": 4,
 "nbformat_minor": 4
}
